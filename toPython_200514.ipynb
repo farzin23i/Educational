{
  "nbformat": 4,
  "nbformat_minor": 0,
  "metadata": {
    "kernelspec": {
      "display_name": "Python 3",
      "language": "python",
      "name": "python3"
    },
    "language_info": {
      "codemirror_mode": {
        "name": "ipython",
        "version": 3
      },
      "file_extension": ".py",
      "mimetype": "text/x-python",
      "name": "python",
      "nbconvert_exporter": "python",
      "pygments_lexer": "ipython3",
      "version": "3.7.3"
    },
    "colab": {
      "name": "toPython-200514.ipynb",
      "provenance": [],
      "include_colab_link": true
    }
  },
  "cells": [
    {
      "cell_type": "markdown",
      "metadata": {
        "id": "view-in-github",
        "colab_type": "text"
      },
      "source": [
        "<a href=\"https://colab.research.google.com/github/farzin23i/Educational/blob/main/toPython_200514.ipynb\" target=\"_parent\"><img src=\"https://colab.research.google.com/assets/colab-badge.svg\" alt=\"Open In Colab\"/></a>"
      ]
    },
    {
      "cell_type": "markdown",
      "metadata": {
        "id": "xk1ODFPCYEyE"
      },
      "source": [
        "# Some Example Errors in Python <br>"
      ]
    },
    {
      "cell_type": "code",
      "metadata": {
        "id": "vX5xZr8zYEyS",
        "outputId": "8d1eb46d-74b4-44a4-9d01-b2c0c6d44814"
      },
      "source": [
        "j"
      ],
      "execution_count": null,
      "outputs": [
        {
          "output_type": "error",
          "ename": "NameError",
          "evalue": "name 'j' is not defined",
          "traceback": [
            "\u001b[0;31m---------------------------------------------------------------------------\u001b[0m",
            "\u001b[0;31mNameError\u001b[0m                                 Traceback (most recent call last)",
            "\u001b[0;32m<ipython-input-1-3eedd8854d1e>\u001b[0m in \u001b[0;36m<module>\u001b[0;34m\u001b[0m\n\u001b[0;32m----> 1\u001b[0;31m \u001b[0mj\u001b[0m\u001b[0;34m\u001b[0m\u001b[0;34m\u001b[0m\u001b[0m\n\u001b[0m",
            "\u001b[0;31mNameError\u001b[0m: name 'j' is not defined"
          ]
        }
      ]
    },
    {
      "cell_type": "code",
      "metadata": {
        "id": "8rGyhi-NYEyV"
      },
      "source": [
        "import np"
      ],
      "execution_count": null,
      "outputs": []
    },
    {
      "cell_type": "code",
      "metadata": {
        "scrolled": false,
        "id": "r_hMgtslYEyW"
      },
      "source": [
        "1/0"
      ],
      "execution_count": null,
      "outputs": []
    },
    {
      "cell_type": "code",
      "metadata": {
        "scrolled": true,
        "id": "d64qS_TMYEyW",
        "outputId": "c9718c35-acc5-4176-d7a6-dcad6541fd24"
      },
      "source": [
        "'s' + 1"
      ],
      "execution_count": null,
      "outputs": [
        {
          "output_type": "error",
          "ename": "TypeError",
          "evalue": "can only concatenate str (not \"int\") to str",
          "traceback": [
            "\u001b[0;31m---------------------------------------------------------------------------\u001b[0m",
            "\u001b[0;31mTypeError\u001b[0m                                 Traceback (most recent call last)",
            "\u001b[0;32m<ipython-input-2-578f2311e4f1>\u001b[0m in \u001b[0;36m<module>\u001b[0;34m\u001b[0m\n\u001b[0;32m----> 1\u001b[0;31m \u001b[0;34m's'\u001b[0m \u001b[0;34m+\u001b[0m \u001b[0;36m1\u001b[0m\u001b[0;34m\u001b[0m\u001b[0;34m\u001b[0m\u001b[0m\n\u001b[0m",
            "\u001b[0;31mTypeError\u001b[0m: can only concatenate str (not \"int\") to str"
          ]
        }
      ]
    },
    {
      "cell_type": "markdown",
      "metadata": {
        "id": "9Jx3dKyMYEyX"
      },
      "source": [
        "#### more in  __[this link](https://www.tutorialsteacher.com/python/error-types-in-python)__\n",
        "<br>"
      ]
    },
    {
      "cell_type": "markdown",
      "metadata": {
        "id": "ym_jztzCYEyY"
      },
      "source": [
        "sumation on strings in python"
      ]
    },
    {
      "cell_type": "code",
      "metadata": {
        "scrolled": true,
        "id": "GSoFr-yPYEyY",
        "outputId": "8033a10a-4783-4619-9d20-0eb1688b4ebf"
      },
      "source": [
        "'a' + 'b' 'cdef'"
      ],
      "execution_count": null,
      "outputs": [
        {
          "output_type": "execute_result",
          "data": {
            "text/plain": [
              "'abcdef'"
            ]
          },
          "metadata": {
            "tags": []
          },
          "execution_count": 3
        }
      ]
    },
    {
      "cell_type": "code",
      "metadata": {
        "id": "-FWiACUFYEyZ"
      },
      "source": [
        ""
      ],
      "execution_count": null,
      "outputs": []
    },
    {
      "cell_type": "code",
      "metadata": {
        "id": "tyRoZerjYEya"
      },
      "source": [
        ""
      ],
      "execution_count": null,
      "outputs": []
    },
    {
      "cell_type": "markdown",
      "metadata": {
        "id": "7vrR_oAsYEya"
      },
      "source": [
        "## Find the set of factors of numbers:"
      ]
    },
    {
      "cell_type": "code",
      "metadata": {
        "id": "_UWu8NzKYEyb",
        "outputId": "9cfc535a-31a6-40df-fbe8-937cd65b4b50"
      },
      "source": [
        "for i in range (1, 21):\n",
        "    L= []\n",
        "    for j in range (1, i+1):\n",
        "        if i%j== 0:\n",
        "            L.append (j)\n",
        "    print ('The set of fctors of', i, 'is: ', L)"
      ],
      "execution_count": null,
      "outputs": [
        {
          "output_type": "stream",
          "text": [
            "The set of fctors of 1 is:  [1]\n",
            "The set of fctors of 2 is:  [1, 2]\n",
            "The set of fctors of 3 is:  [1, 3]\n",
            "The set of fctors of 4 is:  [1, 2, 4]\n",
            "The set of fctors of 5 is:  [1, 5]\n",
            "The set of fctors of 6 is:  [1, 2, 3, 6]\n",
            "The set of fctors of 7 is:  [1, 7]\n",
            "The set of fctors of 8 is:  [1, 2, 4, 8]\n",
            "The set of fctors of 9 is:  [1, 3, 9]\n",
            "The set of fctors of 10 is:  [1, 2, 5, 10]\n",
            "The set of fctors of 11 is:  [1, 11]\n",
            "The set of fctors of 12 is:  [1, 2, 3, 4, 6, 12]\n",
            "The set of fctors of 13 is:  [1, 13]\n",
            "The set of fctors of 14 is:  [1, 2, 7, 14]\n",
            "The set of fctors of 15 is:  [1, 3, 5, 15]\n",
            "The set of fctors of 16 is:  [1, 2, 4, 8, 16]\n",
            "The set of fctors of 17 is:  [1, 17]\n",
            "The set of fctors of 18 is:  [1, 2, 3, 6, 9, 18]\n",
            "The set of fctors of 19 is:  [1, 19]\n",
            "The set of fctors of 20 is:  [1, 2, 4, 5, 10, 20]\n"
          ],
          "name": "stdout"
        }
      ]
    },
    {
      "cell_type": "markdown",
      "metadata": {
        "id": "A5C6zrNtYEyb"
      },
      "source": [
        "# Define a function <br>"
      ]
    },
    {
      "cell_type": "code",
      "metadata": {
        "scrolled": true,
        "id": "AZGQPwfHYEyc",
        "outputId": "7fac790f-7b81-4040-b50e-b7c2c18aee38"
      },
      "source": [
        "# a code fore checking Divisibility\n",
        "\n",
        "print ('100 is divisible to 5:', 100%5 == 0)\n",
        "print ('100 is divisible to 7:', 100%7 == 0)"
      ],
      "execution_count": null,
      "outputs": [
        {
          "output_type": "stream",
          "text": [
            "100 is divisible to 5: True\n",
            "100 is divisible to 7: False\n"
          ],
          "name": "stdout"
        }
      ]
    },
    {
      "cell_type": "code",
      "metadata": {
        "id": "8jvloJJlYEyc",
        "outputId": "f376604a-8097-43f2-ffcd-8af9adbb731d"
      },
      "source": [
        "L= []\n",
        "for j in range (1, 101):\n",
        "    if 100%j== 0:\n",
        "        L.append (j)\n",
        "print ('factors of 100:', L)"
      ],
      "execution_count": null,
      "outputs": [
        {
          "output_type": "stream",
          "text": [
            "factors of 100: [1, 2, 4, 5, 10, 20, 25, 50, 100]\n"
          ],
          "name": "stdout"
        }
      ]
    },
    {
      "cell_type": "markdown",
      "metadata": {
        "id": "VYByryvpYEyd"
      },
      "source": [
        "### How to define a function for this:"
      ]
    },
    {
      "cell_type": "code",
      "metadata": {
        "id": "1xsEdKwHYEyd"
      },
      "source": [
        "def factors (x):\n",
        "    L= []\n",
        "    for j in range (2, x):\n",
        "        if x%j== 0:\n",
        "            L.append (j)\n",
        "    return L"
      ],
      "execution_count": null,
      "outputs": []
    },
    {
      "cell_type": "markdown",
      "metadata": {
        "id": "kpDuCz1jYEye"
      },
      "source": [
        "### Calling or using a function"
      ]
    },
    {
      "cell_type": "code",
      "metadata": {
        "id": "zaqRnMvKYEye",
        "outputId": "b886e49e-9da9-46e4-c05d-8cf07792659c"
      },
      "source": [
        "A= factors (13195)\n",
        "print (A)"
      ],
      "execution_count": null,
      "outputs": [
        {
          "output_type": "stream",
          "text": [
            "[5, 7, 13, 29, 35, 65, 91, 145, 203, 377, 455, 1015, 1885, 2639]\n"
          ],
          "name": "stdout"
        }
      ]
    },
    {
      "cell_type": "code",
      "metadata": {
        "id": "uwXj-RfVYEye",
        "outputId": "64a31ee0-b120-4569-8e1f-149abc11a816"
      },
      "source": [
        "# How to count the objects in a list, or the length of it\n",
        "\n",
        "len(A)"
      ],
      "execution_count": null,
      "outputs": [
        {
          "output_type": "execute_result",
          "data": {
            "text/plain": [
              "14"
            ]
          },
          "metadata": {
            "tags": []
          },
          "execution_count": 9
        }
      ]
    },
    {
      "cell_type": "code",
      "metadata": {
        "id": "94cA41vRYEyf"
      },
      "source": [
        "# Define a function for checking a number is prime:\n",
        "\n",
        "def isprime (x):\n",
        "    L= []\n",
        "    for j in range (2, x):\n",
        "        if x%j== 0:\n",
        "            L.append (j)\n",
        "    return len(L) == 0"
      ],
      "execution_count": null,
      "outputs": []
    },
    {
      "cell_type": "code",
      "metadata": {
        "id": "uVDwD6qdYEyf",
        "outputId": "54db21b3-ff55-41a2-b30c-c6d38aa37616"
      },
      "source": [
        "# Use the function\n",
        "\n",
        "isprime (25)"
      ],
      "execution_count": null,
      "outputs": [
        {
          "output_type": "execute_result",
          "data": {
            "text/plain": [
              "False"
            ]
          },
          "metadata": {
            "tags": []
          },
          "execution_count": 11
        }
      ]
    },
    {
      "cell_type": "code",
      "metadata": {
        "id": "Kt1Z3jRZYEyg"
      },
      "source": [
        "# Define a function to list the prime factors of a number\n",
        "\n",
        "def primes (x):\n",
        "    A= factors (x)\n",
        "    L=[]\n",
        "    for x in A:\n",
        "        if isprime (x):\n",
        "            L.append(x)\n",
        "    return L\n",
        "#             print (x)"
      ],
      "execution_count": null,
      "outputs": []
    },
    {
      "cell_type": "code",
      "metadata": {
        "id": "X6WjfGoLYEyg",
        "outputId": "98692553-1ad5-45c7-e198-d40b963d2ebb"
      },
      "source": [
        "# Use the function\n",
        "\n",
        "print (primes (5348))"
      ],
      "execution_count": null,
      "outputs": [
        {
          "output_type": "stream",
          "text": [
            "[2, 7, 191]\n"
          ],
          "name": "stdout"
        }
      ]
    },
    {
      "cell_type": "markdown",
      "metadata": {
        "id": "ws0riIKSYEyh"
      },
      "source": [
        "# Projectile Motion"
      ]
    },
    {
      "cell_type": "code",
      "metadata": {
        "id": "Ih939QUyYEyh"
      },
      "source": [
        "T= []\n",
        "for i in range (200):\n",
        "    T.append (0.01*i)\n",
        "\n",
        "v0x= 10\n",
        "v0y= 10\n",
        "a= -9.8\n",
        "\n",
        "X= []\n",
        "Y= []\n",
        "for t in T:\n",
        "    X.append (v0x*t)\n",
        "    Y.append (.5*a*t**2 + v0y*t)"
      ],
      "execution_count": null,
      "outputs": []
    },
    {
      "cell_type": "markdown",
      "metadata": {
        "id": "eIPWgGr9YEyh"
      },
      "source": [
        "### To plot "
      ]
    },
    {
      "cell_type": "code",
      "metadata": {
        "id": "-GyIa79HYEyi"
      },
      "source": [
        "import matplotlib.pyplot as plt"
      ],
      "execution_count": null,
      "outputs": []
    },
    {
      "cell_type": "code",
      "metadata": {
        "id": "aZRnI579YEyi",
        "outputId": "5c7c8be1-e9cc-4da6-e7c0-90341ba59f9f"
      },
      "source": [
        "plt.plot (X,Y)\n",
        "plt.grid ()\n",
        "plt.suptitle ('A Projectile motion', weight= 'bold')\n",
        "\n",
        "plt.show ()"
      ],
      "execution_count": null,
      "outputs": [
        {
          "output_type": "display_data",
          "data": {
            "image/png": "[encoded data removed]",
            "text/plain": [
              "<Figure size 432x288 with 1 Axes>"
            ]
          },
          "metadata": {
            "tags": [],
            "needs_background": "light"
          }
        }
      ]
    },
    {
      "cell_type": "code",
      "metadata": {
        "id": "yDSS2oCVYEyi"
      },
      "source": [
        ""
      ],
      "execution_count": null,
      "outputs": []
    }
  ]
}