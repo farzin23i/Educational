{
  "nbformat": 4,
  "nbformat_minor": 0,
  "metadata": {
    "kernelspec": {
      "display_name": "Python 3",
      "language": "python",
      "name": "python3"
    },
    "language_info": {
      "codemirror_mode": {
        "name": "ipython",
        "version": 3
      },
      "file_extension": ".py",
      "mimetype": "text/x-python",
      "name": "python",
      "nbconvert_exporter": "python",
      "pygments_lexer": "ipython3",
      "version": "3.7.3"
    },
    "colab": {
      "name": "toPython-200521.ipynb",
      "provenance": [],
      "include_colab_link": true
    }
  },
  "cells": [
    {
      "cell_type": "markdown",
      "metadata": {
        "id": "view-in-github",
        "colab_type": "text"
      },
      "source": [
        "<a href=\"https://colab.research.google.com/github/farzin23i/Educational/blob/main/toPython_200521.ipynb\" target=\"_parent\"><img src=\"https://colab.research.google.com/assets/colab-badge.svg\" alt=\"Open In Colab\"/></a>"
      ]
    },
    {
      "cell_type": "markdown",
      "metadata": {
        "id": "py_R4UrlYR65"
      },
      "source": [
        "# Topics:\n",
        "<ul>\n",
        "   <li>Recursive Programing  </li>\n",
        "   <li>Lists and an Intruduction to numpy Arrays </li>\n",
        "   <li>Plot some arrays </li>\n",
        "<ul>"
      ]
    },
    {
      "cell_type": "markdown",
      "metadata": {
        "id": "CZoB711KYR7J"
      },
      "source": [
        "# Recursive Programing <br>\n",
        "For recursive furmulas"
      ]
    },
    {
      "cell_type": "markdown",
      "metadata": {
        "id": "nY8nVklUYR7K"
      },
      "source": [
        "## Factorial\n",
        "$5!= 5*4!= 5*4*3!= ...$ <br>"
      ]
    },
    {
      "cell_type": "code",
      "metadata": {
        "scrolled": true,
        "id": "PYj18lHZYR7M",
        "outputId": "dd0fc4cd-4480-4c90-a8c9-bed59370778a"
      },
      "source": [
        "def factorial (n):\n",
        "    if n== 1 or n==0:\n",
        "        return 1\n",
        "    else:\n",
        "        out= n*factorial(n-1)\n",
        "        return out\n",
        "    \n",
        "for n in range (7):    \n",
        "    print (factorial  (n))"
      ],
      "execution_count": null,
      "outputs": [
        {
          "output_type": "stream",
          "text": [
            "1\n",
            "1\n",
            "2\n",
            "6\n",
            "24\n",
            "120\n",
            "720\n"
          ],
          "name": "stdout"
        }
      ]
    },
    {
      "cell_type": "markdown",
      "metadata": {
        "id": "UlS0XHyqYR7R"
      },
      "source": [
        "## Fibonacci sequence"
      ]
    },
    {
      "cell_type": "code",
      "metadata": {
        "id": "TAHIPMe0YR7U",
        "outputId": "24fe324b-e21d-4908-89d4-ee24a2977339"
      },
      "source": [
        "def Fibonacci(n): \n",
        "    if n<0: \n",
        "        print(\"Incorrect input\") \n",
        "    # First Fibonacci number is 1\n",
        "    elif n==1 or n==2: \n",
        "        return 1\n",
        "    else: \n",
        "        return Fibonacci(n-1)+Fibonacci(n-2) \n",
        "\n",
        "    \n",
        "FibList= []\n",
        "for n in range (1, 20):\n",
        "    FibList.append(Fibonacci(n))\n",
        "\n",
        "print(FibList) "
      ],
      "execution_count": null,
      "outputs": [
        {
          "output_type": "stream",
          "text": [
            "[1, 1, 2, 3, 5, 8, 13, 21, 34, 55, 89, 144, 233, 377, 610, 987, 1597, 2584, 4181]\n"
          ],
          "name": "stdout"
        }
      ]
    },
    {
      "cell_type": "markdown",
      "metadata": {
        "id": "ZqA5Q0hdYR7V"
      },
      "source": [
        "# Lists and Arrays"
      ]
    },
    {
      "cell_type": "markdown",
      "metadata": {
        "id": "YowYMU2FYR7W"
      },
      "source": [
        "## Python List"
      ]
    },
    {
      "cell_type": "code",
      "metadata": {
        "id": "pDxTM_etYR7W",
        "outputId": "94229821-667f-418c-cd46-302715421edf"
      },
      "source": [
        "L1= [1, 2]\n",
        "print (L1)\n",
        "print (L1*5)"
      ],
      "execution_count": null,
      "outputs": [
        {
          "output_type": "stream",
          "text": [
            "[1, 2]\n",
            "[1, 2, 1, 2, 1, 2, 1, 2, 1, 2]\n"
          ],
          "name": "stdout"
        }
      ]
    },
    {
      "cell_type": "code",
      "metadata": {
        "scrolled": true,
        "id": "en6n9wFcYR7X",
        "outputId": "c39a381f-cc20-43b6-c44d-3b3206d02561"
      },
      "source": [
        "type (L1)"
      ],
      "execution_count": null,
      "outputs": [
        {
          "output_type": "execute_result",
          "data": {
            "text/plain": [
              "list"
            ]
          },
          "metadata": {
            "tags": []
          },
          "execution_count": 4
        }
      ]
    },
    {
      "cell_type": "markdown",
      "metadata": {
        "id": "WBUS30QMYR7Y"
      },
      "source": [
        "## Numpy Arrays"
      ]
    },
    {
      "cell_type": "code",
      "metadata": {
        "id": "42-fi7ZYYR7Y"
      },
      "source": [
        "import numpy as np"
      ],
      "execution_count": null,
      "outputs": []
    },
    {
      "cell_type": "code",
      "metadata": {
        "id": "945HkXArYR7Z",
        "outputId": "6ad289bd-6d07-4919-acaf-e34e9709d0f4"
      },
      "source": [
        "a1= np.array(L1)\n",
        "a1*3"
      ],
      "execution_count": null,
      "outputs": [
        {
          "output_type": "execute_result",
          "data": {
            "text/plain": [
              "array([3, 6])"
            ]
          },
          "metadata": {
            "tags": []
          },
          "execution_count": 6
        }
      ]
    },
    {
      "cell_type": "code",
      "metadata": {
        "id": "_m-8ypYHYR7Z",
        "outputId": "f240f43c-d015-44b7-868b-ea6ece018968"
      },
      "source": [
        "type (a1)"
      ],
      "execution_count": null,
      "outputs": [
        {
          "output_type": "execute_result",
          "data": {
            "text/plain": [
              "numpy.ndarray"
            ]
          },
          "metadata": {
            "tags": []
          },
          "execution_count": 7
        }
      ]
    },
    {
      "cell_type": "code",
      "metadata": {
        "scrolled": false,
        "id": "wckaW4viYR7a",
        "outputId": "bdb8e3fb-73b3-436c-d1e8-f15e55d412ab"
      },
      "source": [
        "a1.append (1)"
      ],
      "execution_count": null,
      "outputs": [
        {
          "output_type": "error",
          "ename": "AttributeError",
          "evalue": "'numpy.ndarray' object has no attribute 'append'",
          "traceback": [
            "\u001b[0;31m---------------------------------------------------------------------------\u001b[0m",
            "\u001b[0;31mAttributeError\u001b[0m                            Traceback (most recent call last)",
            "\u001b[0;32m<ipython-input-8-37475cee8308>\u001b[0m in \u001b[0;36m<module>\u001b[0;34m\u001b[0m\n\u001b[0;32m----> 1\u001b[0;31m \u001b[0ma1\u001b[0m\u001b[0;34m.\u001b[0m\u001b[0mappend\u001b[0m \u001b[0;34m(\u001b[0m\u001b[0;36m1\u001b[0m\u001b[0;34m)\u001b[0m\u001b[0;34m\u001b[0m\u001b[0;34m\u001b[0m\u001b[0m\n\u001b[0m",
            "\u001b[0;31mAttributeError\u001b[0m: 'numpy.ndarray' object has no attribute 'append'"
          ]
        }
      ]
    },
    {
      "cell_type": "code",
      "metadata": {
        "id": "hkZvXWdAYR7a"
      },
      "source": [
        "# np.append (a1, [], axis= )"
      ],
      "execution_count": null,
      "outputs": []
    },
    {
      "cell_type": "code",
      "metadata": {
        "id": "-PDN2swXYR7b",
        "outputId": "2c526f5b-b60d-4b67-f370-d59da9c854dd"
      },
      "source": [
        "T= np.linspace (0, 20, 20, endpoint= False)\n",
        "T"
      ],
      "execution_count": null,
      "outputs": [
        {
          "output_type": "execute_result",
          "data": {
            "text/plain": [
              "array([ 0.,  1.,  2.,  3.,  4.,  5.,  6.,  7.,  8.,  9., 10., 11., 12.,\n",
              "       13., 14., 15., 16., 17., 18., 19.])"
            ]
          },
          "metadata": {
            "tags": []
          },
          "execution_count": 10
        }
      ]
    },
    {
      "cell_type": "code",
      "metadata": {
        "id": "6y9GktvkYR7c",
        "outputId": "12aef1d3-e6c8-4aa3-99b1-1e587d5ce7a3"
      },
      "source": [
        "a2= np.linspace (5.5, 17.3, 30)\n",
        "a2"
      ],
      "execution_count": null,
      "outputs": [
        {
          "output_type": "execute_result",
          "data": {
            "text/plain": [
              "array([ 5.5       ,  5.90689655,  6.3137931 ,  6.72068966,  7.12758621,\n",
              "        7.53448276,  7.94137931,  8.34827586,  8.75517241,  9.16206897,\n",
              "        9.56896552,  9.97586207, 10.38275862, 10.78965517, 11.19655172,\n",
              "       11.60344828, 12.01034483, 12.41724138, 12.82413793, 13.23103448,\n",
              "       13.63793103, 14.04482759, 14.45172414, 14.85862069, 15.26551724,\n",
              "       15.67241379, 16.07931034, 16.4862069 , 16.89310345, 17.3       ])"
            ]
          },
          "metadata": {
            "tags": []
          },
          "execution_count": 11
        }
      ]
    },
    {
      "cell_type": "code",
      "metadata": {
        "scrolled": true,
        "id": "yWWpnR08YR7c",
        "outputId": "8bd00df4-e62b-4e11-ed6f-3eebfbd43ceb"
      },
      "source": [
        "np.arange (5,20)"
      ],
      "execution_count": null,
      "outputs": [
        {
          "output_type": "execute_result",
          "data": {
            "text/plain": [
              "array([ 5,  6,  7,  8,  9, 10, 11, 12, 13, 14, 15, 16, 17, 18, 19])"
            ]
          },
          "metadata": {
            "tags": []
          },
          "execution_count": 12
        }
      ]
    },
    {
      "cell_type": "markdown",
      "metadata": {
        "id": "VvuoJRjwYR7d"
      },
      "source": [
        "## The projectile motion problem for different fire angles"
      ]
    },
    {
      "cell_type": "code",
      "metadata": {
        "id": "hDVGgNQPYR7d"
      },
      "source": [
        "from numpy import sin, cos, pi, exp\n",
        "import matplotlib.pyplot as plt"
      ],
      "execution_count": null,
      "outputs": []
    },
    {
      "cell_type": "code",
      "metadata": {
        "id": "FtqchgIzYR7d",
        "outputId": "39a22d51-f865-453d-bf28-b24f4df2b410"
      },
      "source": [
        "def r(t, theta):\n",
        "    v0= 200\n",
        "    v0x= v0*cos (theta)\n",
        "    v0y= v0*sin (theta)\n",
        "    a= -9.8\n",
        "    y0= 0.1\n",
        "    x= v0x*t\n",
        "    y= 0.5*a*t**2 + v0y*t + y0\n",
        "    return [x, y]\n",
        "\n",
        "x, y= r(10, pi/3)\n",
        "print (x)\n",
        "print (y)"
      ],
      "execution_count": null,
      "outputs": [
        {
          "output_type": "stream",
          "text": [
            "1000.0000000000002\n",
            "1242.150807568877\n"
          ],
          "name": "stdout"
        }
      ]
    },
    {
      "cell_type": "code",
      "metadata": {
        "scrolled": false,
        "id": "eNPLLVe5YR7e",
        "outputId": "cbdd21c3-335b-448a-ebfb-27222cf7f1f5"
      },
      "source": [
        "N= 200         # Number of time steps\n",
        "tLim= 20       # total time in seconds\n",
        "T= np.linspace (0, tLim, N)\n",
        "\n",
        "theta1= pi/6\n",
        "theta2= pi/3\n",
        "\n",
        "X1= np.zeros (N)\n",
        "Y1= np.zeros (N)\n",
        "X2= np.zeros (N)\n",
        "Y2= np.zeros (N)\n",
        "\n",
        "for i in range (len (T)):\n",
        "    X1[i], Y1[i]= r(T[i], theta1)\n",
        "    X2[i], Y2[i]= r(T[i], theta2)\n",
        "\n",
        "plt.plot (X1, Y1, label= '$\\pi/6$')\n",
        "plt.plot (X2, Y2, label= '$\\pi/3$')\n",
        "plt.legend ()\n",
        "\n",
        "plt.grid ()\n",
        "plt.show ()"
      ],
      "execution_count": null,
      "outputs": [
        {
          "output_type": "display_data",
          "data": {
            "image/png": "[encoded data removed]",
            "text/plain": [
              "<Figure size 432x288 with 1 Axes>"
            ]
          },
          "metadata": {
            "tags": [],
            "needs_background": "light"
          }
        }
      ]
    },
    {
      "cell_type": "markdown",
      "metadata": {
        "id": "dvsPMV8QYR7f"
      },
      "source": [
        "## More about numpy arrays"
      ]
    },
    {
      "cell_type": "code",
      "metadata": {
        "id": "xZhY43boYR7f",
        "outputId": "b1e6049c-c8e0-40db-feb8-89d821008b5b"
      },
      "source": [
        "pi* np.eye (5)"
      ],
      "execution_count": null,
      "outputs": [
        {
          "output_type": "execute_result",
          "data": {
            "text/plain": [
              "array([[3.14159265, 0.        , 0.        , 0.        , 0.        ],\n",
              "       [0.        , 3.14159265, 0.        , 0.        , 0.        ],\n",
              "       [0.        , 0.        , 3.14159265, 0.        , 0.        ],\n",
              "       [0.        , 0.        , 0.        , 3.14159265, 0.        ],\n",
              "       [0.        , 0.        , 0.        , 0.        , 3.14159265]])"
            ]
          },
          "metadata": {
            "tags": []
          },
          "execution_count": 16
        }
      ]
    },
    {
      "cell_type": "code",
      "metadata": {
        "id": "uUs3uS9SYR7g",
        "outputId": "6c126c22-0182-440f-96ad-4fbd91f02cdb"
      },
      "source": [
        "print (np.zeros (5))\n",
        "print (np.zeros ([5,5]))"
      ],
      "execution_count": null,
      "outputs": [
        {
          "output_type": "stream",
          "text": [
            "[0. 0. 0. 0. 0.]\n",
            "[[0. 0. 0. 0. 0.]\n",
            " [0. 0. 0. 0. 0.]\n",
            " [0. 0. 0. 0. 0.]\n",
            " [0. 0. 0. 0. 0.]\n",
            " [0. 0. 0. 0. 0.]]\n"
          ],
          "name": "stdout"
        }
      ]
    },
    {
      "cell_type": "code",
      "metadata": {
        "id": "wmZIxGUGYR7h",
        "outputId": "0c7f10c0-d8a7-449f-c1cb-267cbcb5b980"
      },
      "source": [
        "a5=np.ones (3)\n",
        "a6= np.array ([a5])\n",
        "print(a5)\n",
        "print(a6)\n",
        "np.shape (a6)"
      ],
      "execution_count": null,
      "outputs": [
        {
          "output_type": "stream",
          "text": [
            "[1. 1. 1.]\n",
            "[[1. 1. 1.]]\n"
          ],
          "name": "stdout"
        },
        {
          "output_type": "execute_result",
          "data": {
            "text/plain": [
              "(1, 3)"
            ]
          },
          "metadata": {
            "tags": []
          },
          "execution_count": 18
        }
      ]
    },
    {
      "cell_type": "code",
      "metadata": {
        "scrolled": true,
        "id": "8bzSEoi9YR7h",
        "outputId": "4fc3bc00-6b7d-4e2a-937e-1de08d3d9e8e"
      },
      "source": [
        "a4= np.ones ([2,3,4])\n",
        "print (a4)\n",
        "np.shape (a4)"
      ],
      "execution_count": null,
      "outputs": [
        {
          "output_type": "stream",
          "text": [
            "[[[1. 1. 1. 1.]\n",
            "  [1. 1. 1. 1.]\n",
            "  [1. 1. 1. 1.]]\n",
            "\n",
            " [[1. 1. 1. 1.]\n",
            "  [1. 1. 1. 1.]\n",
            "  [1. 1. 1. 1.]]]\n"
          ],
          "name": "stdout"
        },
        {
          "output_type": "execute_result",
          "data": {
            "text/plain": [
              "(2, 3, 4)"
            ]
          },
          "metadata": {
            "tags": []
          },
          "execution_count": 19
        }
      ]
    },
    {
      "cell_type": "code",
      "metadata": {
        "id": "ShzjJwICYR7i",
        "outputId": "ecce7025-3df8-4e38-c733-2bdf28e8c0a1"
      },
      "source": [
        "np.random.random ()"
      ],
      "execution_count": null,
      "outputs": [
        {
          "output_type": "execute_result",
          "data": {
            "text/plain": [
              "0.41566409616770117"
            ]
          },
          "metadata": {
            "tags": []
          },
          "execution_count": 20
        }
      ]
    },
    {
      "cell_type": "code",
      "metadata": {
        "scrolled": true,
        "id": "F_q6qiy9YR7i",
        "outputId": "2ac8451a-9bb3-41ac-8960-894647bd6649"
      },
      "source": [
        "np.random.random ([5,5])"
      ],
      "execution_count": null,
      "outputs": [
        {
          "output_type": "execute_result",
          "data": {
            "text/plain": [
              "array([[0.17585609, 0.65077008, 0.98652707, 0.47027098, 0.93997942],\n",
              "       [0.13931773, 0.53441043, 0.27371766, 0.26109756, 0.10959959],\n",
              "       [0.11818547, 0.25323387, 0.57839836, 0.82063839, 0.25345605],\n",
              "       [0.64490134, 0.45701519, 0.95287655, 0.44507076, 0.82233405],\n",
              "       [0.56219659, 0.61200035, 0.13466123, 0.80476123, 0.00449203]])"
            ]
          },
          "metadata": {
            "tags": []
          },
          "execution_count": 21
        }
      ]
    },
    {
      "cell_type": "code",
      "metadata": {
        "id": "L-VxrGmMYR7j",
        "outputId": "5757a394-3e54-43fe-d82e-25b2c5981fd3"
      },
      "source": [
        "np.random.randint (10, 15)"
      ],
      "execution_count": null,
      "outputs": [
        {
          "output_type": "execute_result",
          "data": {
            "text/plain": [
              "10"
            ]
          },
          "metadata": {
            "tags": []
          },
          "execution_count": 22
        }
      ]
    },
    {
      "cell_type": "code",
      "metadata": {
        "scrolled": false,
        "id": "WiNGHdm4YR7j",
        "outputId": "d2ec710d-ee64-4f32-d9a3-003a27528fe4"
      },
      "source": [
        "np.random.randint (10, 15, 100)"
      ],
      "execution_count": null,
      "outputs": [
        {
          "output_type": "execute_result",
          "data": {
            "text/plain": [
              "array([14, 13, 12, 14, 11, 14, 11, 12, 13, 12, 12, 13, 10, 13, 12, 12, 14,\n",
              "       14, 14, 11, 14, 12, 14, 13, 14, 13, 11, 11, 10, 12, 10, 14, 14, 10,\n",
              "       14, 14, 10, 11, 10, 12, 13, 14, 14, 14, 14, 12, 10, 13, 13, 14, 14,\n",
              "       12, 12, 11, 12, 10, 11, 10, 14, 12, 14, 12, 10, 11, 10, 10, 12, 11,\n",
              "       13, 14, 10, 14, 12, 11, 14, 10, 10, 12, 12, 12, 11, 13, 13, 14, 12,\n",
              "       12, 11, 12, 11, 14, 13, 11, 14, 13, 13, 11, 11, 13, 13, 14])"
            ]
          },
          "metadata": {
            "tags": []
          },
          "execution_count": 23
        }
      ]
    },
    {
      "cell_type": "code",
      "metadata": {
        "id": "C3_CcsnfYR7k",
        "outputId": "22e8b036-42e7-4017-ca14-318643042ace"
      },
      "source": [
        "y= np.random.normal (2, 1, 1000)\n",
        "plt.plot (y, '.')\n",
        "plt.show ()"
      ],
      "execution_count": null,
      "outputs": [
        {
          "output_type": "display_data",
          "data": {
            "image/png": "[encoded data removed]",
            "text/plain": [
              "<Figure size 432x288 with 1 Axes>"
            ]
          },
          "metadata": {
            "tags": [],
            "needs_background": "light"
          }
        }
      ]
    },
    {
      "cell_type": "code",
      "metadata": {
        "id": "7oSo1C8bYR7k",
        "outputId": "e9c5e349-d9d8-435b-b772-b7022142d490"
      },
      "source": [
        "# histogram of normal distribution y, with 9 blocks!\n",
        "plt.hist (y, 9);"
      ],
      "execution_count": null,
      "outputs": [
        {
          "output_type": "display_data",
          "data": {
            "image/png": "[encoded data removed]",
            "text/plain": [
              "<Figure size 432x288 with 1 Axes>"
            ]
          },
          "metadata": {
            "tags": [],
            "needs_background": "light"
          }
        }
      ]
    },
    {
      "cell_type": "code",
      "metadata": {
        "scrolled": false,
        "id": "E_OAs-hjYR7l",
        "outputId": "7b629ee1-fde7-4280-a494-42350a4ca40b"
      },
      "source": [
        "help (np.random.randint)"
      ],
      "execution_count": null,
      "outputs": [
        {
          "output_type": "stream",
          "text": [
            "Help on built-in function randint:\n",
            "\n",
            "randint(...) method of mtrand.RandomState instance\n",
            "    randint(low, high=None, size=None, dtype='l')\n",
            "    \n",
            "    Return random integers from `low` (inclusive) to `high` (exclusive).\n",
            "    \n",
            "    Return random integers from the \"discrete uniform\" distribution of\n",
            "    the specified dtype in the \"half-open\" interval [`low`, `high`). If\n",
            "    `high` is None (the default), then results are from [0, `low`).\n",
            "    \n",
            "    Parameters\n",
            "    ----------\n",
            "    low : int\n",
            "        Lowest (signed) integer to be drawn from the distribution (unless\n",
            "        ``high=None``, in which case this parameter is one above the\n",
            "        *highest* such integer).\n",
            "    high : int, optional\n",
            "        If provided, one above the largest (signed) integer to be drawn\n",
            "        from the distribution (see above for behavior if ``high=None``).\n",
            "    size : int or tuple of ints, optional\n",
            "        Output shape.  If the given shape is, e.g., ``(m, n, k)``, then\n",
            "        ``m * n * k`` samples are drawn.  Default is None, in which case a\n",
            "        single value is returned.\n",
            "    dtype : dtype, optional\n",
            "        Desired dtype of the result. All dtypes are determined by their\n",
            "        name, i.e., 'int64', 'int', etc, so byteorder is not available\n",
            "        and a specific precision may have different C types depending\n",
            "        on the platform. The default value is 'np.int'.\n",
            "    \n",
            "        .. versionadded:: 1.11.0\n",
            "    \n",
            "    Returns\n",
            "    -------\n",
            "    out : int or ndarray of ints\n",
            "        `size`-shaped array of random integers from the appropriate\n",
            "        distribution, or a single such random int if `size` not provided.\n",
            "    \n",
            "    See Also\n",
            "    --------\n",
            "    random.random_integers : similar to `randint`, only for the closed\n",
            "        interval [`low`, `high`], and 1 is the lowest value if `high` is\n",
            "        omitted. In particular, this other one is the one to use to generate\n",
            "        uniformly distributed discrete non-integers.\n",
            "    \n",
            "    Examples\n",
            "    --------\n",
            "    >>> np.random.randint(2, size=10)\n",
            "    array([1, 0, 0, 0, 1, 1, 0, 0, 1, 0])\n",
            "    >>> np.random.randint(1, size=10)\n",
            "    array([0, 0, 0, 0, 0, 0, 0, 0, 0, 0])\n",
            "    \n",
            "    Generate a 2 x 4 array of ints between 0 and 4, inclusive:\n",
            "    \n",
            "    >>> np.random.randint(5, size=(2, 4))\n",
            "    array([[4, 0, 2, 1],\n",
            "           [3, 2, 2, 0]])\n",
            "\n"
          ],
          "name": "stdout"
        }
      ]
    },
    {
      "cell_type": "markdown",
      "metadata": {
        "id": "DLKUWK42YR7l"
      },
      "source": [
        "### show a 2D array"
      ]
    },
    {
      "cell_type": "code",
      "metadata": {
        "scrolled": false,
        "id": "8tsKzQcDYR7l",
        "outputId": "4d003956-6dc9-4298-aa58-4f0ef82b22b7"
      },
      "source": [
        "y2= np.ones ([20, 20])\n",
        "y2[5:15, 7:10]= 0\n",
        "plt.imshow (y2, origin= 'bottom')"
      ],
      "execution_count": null,
      "outputs": [
        {
          "output_type": "execute_result",
          "data": {
            "text/plain": [
              "<matplotlib.image.AxesImage at 0x7fb4777fe6a0>"
            ]
          },
          "metadata": {
            "tags": []
          },
          "execution_count": 27
        },
        {
          "output_type": "display_data",
          "data": {
            "image/png": "[encoded data removed]",
            "text/plain": [
              "<Figure size 432x288 with 1 Axes>"
            ]
          },
          "metadata": {
            "tags": [],
            "needs_background": "light"
          }
        }
      ]
    },
    {
      "cell_type": "markdown",
      "metadata": {
        "id": "EnbIjxOaYR7m"
      },
      "source": [
        "### make a random 2D lattice"
      ]
    },
    {
      "cell_type": "code",
      "metadata": {
        "id": "SKhyRlfAYR7m",
        "outputId": "cc5e1d8a-1bb9-4dac-92f6-6584b8c1b5e3"
      },
      "source": [
        "# Choose randomely from some inputs:\n",
        "np.random.choice ([18, 13, 15, 46])"
      ],
      "execution_count": null,
      "outputs": [
        {
          "output_type": "execute_result",
          "data": {
            "text/plain": [
              "46"
            ]
          },
          "metadata": {
            "tags": []
          },
          "execution_count": 28
        }
      ]
    },
    {
      "cell_type": "code",
      "metadata": {
        "id": "WPzIEZwcYR7m",
        "outputId": "31e4db84-144e-44ce-ff2c-8a83a60ce2da"
      },
      "source": [
        "# Choose 2 objects randomely from some inputs:\n",
        "np.random.choice ([18, 13, 15, 46], 2)"
      ],
      "execution_count": null,
      "outputs": [
        {
          "output_type": "execute_result",
          "data": {
            "text/plain": [
              "array([13, 15])"
            ]
          },
          "metadata": {
            "tags": []
          },
          "execution_count": 29
        }
      ]
    },
    {
      "cell_type": "code",
      "metadata": {
        "id": "YoNW8LzrYR7n",
        "outputId": "af179743-5a75-4b0c-956e-0b43f62c8288"
      },
      "source": [
        "# Make random [3, 4] array of 0 or 1:\n",
        "np.random.choice ([0, 1], [3, 4])"
      ],
      "execution_count": null,
      "outputs": [
        {
          "output_type": "execute_result",
          "data": {
            "text/plain": [
              "array([[1, 0, 0, 1],\n",
              "       [0, 1, 0, 1],\n",
              "       [0, 1, 0, 1]])"
            ]
          },
          "metadata": {
            "tags": []
          },
          "execution_count": 30
        }
      ]
    },
    {
      "cell_type": "code",
      "metadata": {
        "scrolled": true,
        "id": "x6G7m-XJYR7n",
        "outputId": "8b884c91-d72c-411f-e667-053036b5041c"
      },
      "source": [
        "y3= np.random.choice ([0, 1], [20,20])\n",
        "# plt.imshow (y3);\n",
        "\n",
        "y3[0,:]= 0\n",
        "y3[:, 0]= 0\n",
        "y3[:, -1]= 0\n",
        "y3[-1, :]= 1\n",
        "\n",
        "plt.imshow (y3, origin= 'bottom');"
      ],
      "execution_count": null,
      "outputs": [
        {
          "output_type": "display_data",
          "data": {
            "image/png": "[encoded data removed]",
            "text/plain": [
              "<Figure size 432x288 with 1 Axes>"
            ]
          },
          "metadata": {
            "tags": [],
            "needs_background": "light"
          }
        }
      ]
    },
    {
      "cell_type": "code",
      "metadata": {
        "id": "H2iBXoOPYR7o",
        "outputId": "d588b7f7-e0ce-49ff-fe7c-b244fee2fc8c"
      },
      "source": [
        "# see whats in 10th row of y2:\n",
        "y3[10]"
      ],
      "execution_count": null,
      "outputs": [
        {
          "output_type": "execute_result",
          "data": {
            "text/plain": [
              "array([0, 1, 0, 0, 0, 1, 1, 1, 0, 1, 1, 1, 0, 0, 1, 0, 1, 0, 1, 0])"
            ]
          },
          "metadata": {
            "tags": []
          },
          "execution_count": 32
        }
      ]
    },
    {
      "cell_type": "code",
      "metadata": {
        "id": "9vJ31nfEYR7o"
      },
      "source": [
        ""
      ],
      "execution_count": null,
      "outputs": []
    }
  ]
}